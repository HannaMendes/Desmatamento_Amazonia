{
 "cells": [
  {
   "cell_type": "markdown",
   "id": "ddbcb23f",
   "metadata": {},
   "source": [
    "# Análise de Imagens da Floresta Amazônica"
   ]
  },
  {
   "cell_type": "markdown",
   "id": "aad722a9",
   "metadata": {},
   "source": [
    "# Contextualização\n",
    "\n",
    "Considerando o alto número de florestas sendo derrubadas nesse instante, seguimos com o projeto proposto e analisamos os dados diponibilizados no dataset Kagle. A ideia era tentar uma leitura mais clara que possibilizasse uma análise melhor das imagens capturadas via satélite, tendo em vista que elas são muito grosseiras e dificeis de compreender o que de fato é área desmatada de mata intocada por ação humana"
   ]
  },
  {
   "cell_type": "markdown",
   "id": "4e356a19",
   "metadata": {},
   "source": [
    "# Renomeando todas as imagens uitilizadas do Dataset"
   ]
  },
  {
   "cell_type": "raw",
   "id": "238f0ce2",
   "metadata": {},
   "source": [
    "# Executar apenas uma vez em modo de código para renomear todas as imagens"
   ]
  },
  {
   "cell_type": "markdown",
   "id": "1d6c9682",
   "metadata": {},
   "source": [
    "```python\n",
    "\n",
    "\n",
    "import os\n",
    "os.chdir(r\"train-jpg\")\n",
    "print(os.getcwd())\n",
    "for count, f in enumerate(os.listdir()):\n",
    "    f_name, f_ext = os.path.splitext(f)\n",
    "    f_name = str(count)\n",
    "    new_name = f'{f_name}{f_ext}'\n",
    "    os.rename(f, new_name)\n",
    "```"
   ]
  },
  {
   "cell_type": "markdown",
   "id": "f2ae044a",
   "metadata": {},
   "source": [
    "# Bibliotecas utilizadas"
   ]
  },
  {
   "cell_type": "code",
   "execution_count": 3,
   "id": "01682903",
   "metadata": {},
   "outputs": [],
   "source": [
    "# Importando as bibliotecas necessárias\n",
    "import matplotlib.pyplot as plt\n",
    "import pandas as pd\n",
    "import numpy as np\n",
    "import cv2\n",
    "\n",
    "from colormap import rgb2hex\n",
    "from sklearn.cluster import KMeans"
   ]
  },
  {
   "cell_type": "markdown",
   "id": "7e79df61",
   "metadata": {},
   "source": [
    "# Aqui estão as estruturas de repetição\n",
    "\n",
    "Elas foram utilizadas para extrair as imagens da pasta, além disso as imagens foram covertidas para RGB para que pudessemos analizá-las. Extraimos o máximo de imagens possiveis considerando o poder computacional que possuimos. "
   ]
  },
  {
   "cell_type": "code",
   "execution_count": 2,
   "id": "14b27f5c",
   "metadata": {},
   "outputs": [],
   "source": [
    "# Estrutura de Repetição para extrair as imagens da pasta;\n",
    "# As imagens são extraídas no formato BGR e são convertidas para RGB;\n",
    "# Extraímos 4096 imagens porque foi o que os computadores aguentaram;\n",
    "lista_imagens = []\n",
    "num = 0\n",
    "for i in range(0, 4096):\n",
    "    image = cv2.imread(r'train-jpg\\{}.jpg'.format(num))\n",
    "    image = cv2.cvtColor(image, cv2.COLOR_BGR2RGB)\n",
    "    lista_imagens.append(image)\n",
    "    num += 1 \n",
    "\n",
    "# Transformando a lista de imagens em um Array;\n",
    "lista_imagens = np.array(lista_imagens)"
   ]
  },
  {
   "cell_type": "markdown",
   "id": "6740a89b",
   "metadata": {},
   "source": [
    "# Redimensionando o dataset para conseguir treinar o modelo"
   ]
  },
  {
   "cell_type": "code",
   "execution_count": 3,
   "id": "f32c91a6",
   "metadata": {},
   "outputs": [],
   "source": [
    "# Redimensionando o dataset para conseguir treinar o modelo;\n",
    "lista_imagens = lista_imagens.reshape((16384 * 16384, 3))"
   ]
  },
  {
   "cell_type": "markdown",
   "id": "ac50ea23",
   "metadata": {},
   "source": [
    "*Utilizamos o K-means para agrupar as cores em três clusters, este ponto demora consideravelmente para rodar*"
   ]
  },
  {
   "cell_type": "code",
   "execution_count": 4,
   "id": "7bb46786",
   "metadata": {},
   "outputs": [
    {
     "data": {
      "text/html": [
       "<style>#sk-container-id-1 {color: black;background-color: white;}#sk-container-id-1 pre{padding: 0;}#sk-container-id-1 div.sk-toggleable {background-color: white;}#sk-container-id-1 label.sk-toggleable__label {cursor: pointer;display: block;width: 100%;margin-bottom: 0;padding: 0.3em;box-sizing: border-box;text-align: center;}#sk-container-id-1 label.sk-toggleable__label-arrow:before {content: \"▸\";float: left;margin-right: 0.25em;color: #696969;}#sk-container-id-1 label.sk-toggleable__label-arrow:hover:before {color: black;}#sk-container-id-1 div.sk-estimator:hover label.sk-toggleable__label-arrow:before {color: black;}#sk-container-id-1 div.sk-toggleable__content {max-height: 0;max-width: 0;overflow: hidden;text-align: left;background-color: #f0f8ff;}#sk-container-id-1 div.sk-toggleable__content pre {margin: 0.2em;color: black;border-radius: 0.25em;background-color: #f0f8ff;}#sk-container-id-1 input.sk-toggleable__control:checked~div.sk-toggleable__content {max-height: 200px;max-width: 100%;overflow: auto;}#sk-container-id-1 input.sk-toggleable__control:checked~label.sk-toggleable__label-arrow:before {content: \"▾\";}#sk-container-id-1 div.sk-estimator input.sk-toggleable__control:checked~label.sk-toggleable__label {background-color: #d4ebff;}#sk-container-id-1 div.sk-label input.sk-toggleable__control:checked~label.sk-toggleable__label {background-color: #d4ebff;}#sk-container-id-1 input.sk-hidden--visually {border: 0;clip: rect(1px 1px 1px 1px);clip: rect(1px, 1px, 1px, 1px);height: 1px;margin: -1px;overflow: hidden;padding: 0;position: absolute;width: 1px;}#sk-container-id-1 div.sk-estimator {font-family: monospace;background-color: #f0f8ff;border: 1px dotted black;border-radius: 0.25em;box-sizing: border-box;margin-bottom: 0.5em;}#sk-container-id-1 div.sk-estimator:hover {background-color: #d4ebff;}#sk-container-id-1 div.sk-parallel-item::after {content: \"\";width: 100%;border-bottom: 1px solid gray;flex-grow: 1;}#sk-container-id-1 div.sk-label:hover label.sk-toggleable__label {background-color: #d4ebff;}#sk-container-id-1 div.sk-serial::before {content: \"\";position: absolute;border-left: 1px solid gray;box-sizing: border-box;top: 0;bottom: 0;left: 50%;z-index: 0;}#sk-container-id-1 div.sk-serial {display: flex;flex-direction: column;align-items: center;background-color: white;padding-right: 0.2em;padding-left: 0.2em;position: relative;}#sk-container-id-1 div.sk-item {position: relative;z-index: 1;}#sk-container-id-1 div.sk-parallel {display: flex;align-items: stretch;justify-content: center;background-color: white;position: relative;}#sk-container-id-1 div.sk-item::before, #sk-container-id-1 div.sk-parallel-item::before {content: \"\";position: absolute;border-left: 1px solid gray;box-sizing: border-box;top: 0;bottom: 0;left: 50%;z-index: -1;}#sk-container-id-1 div.sk-parallel-item {display: flex;flex-direction: column;z-index: 1;position: relative;background-color: white;}#sk-container-id-1 div.sk-parallel-item:first-child::after {align-self: flex-end;width: 50%;}#sk-container-id-1 div.sk-parallel-item:last-child::after {align-self: flex-start;width: 50%;}#sk-container-id-1 div.sk-parallel-item:only-child::after {width: 0;}#sk-container-id-1 div.sk-dashed-wrapped {border: 1px dashed gray;margin: 0 0.4em 0.5em 0.4em;box-sizing: border-box;padding-bottom: 0.4em;background-color: white;}#sk-container-id-1 div.sk-label label {font-family: monospace;font-weight: bold;display: inline-block;line-height: 1.2em;}#sk-container-id-1 div.sk-label-container {text-align: center;}#sk-container-id-1 div.sk-container {/* jupyter's `normalize.less` sets `[hidden] { display: none; }` but bootstrap.min.css set `[hidden] { display: none !important; }` so we also need the `!important` here to be able to override the default hidden behavior on the sphinx rendered scikit-learn.org. See: https://github.com/scikit-learn/scikit-learn/issues/21755 */display: inline-block !important;position: relative;}#sk-container-id-1 div.sk-text-repr-fallback {display: none;}</style><div id=\"sk-container-id-1\" class=\"sk-top-container\"><div class=\"sk-text-repr-fallback\"><pre>KMeans(n_clusters=3)</pre><b>In a Jupyter environment, please rerun this cell to show the HTML representation or trust the notebook. <br />On GitHub, the HTML representation is unable to render, please try loading this page with nbviewer.org.</b></div><div class=\"sk-container\" hidden><div class=\"sk-item\"><div class=\"sk-estimator sk-toggleable\"><input class=\"sk-toggleable__control sk-hidden--visually\" id=\"sk-estimator-id-1\" type=\"checkbox\" checked><label for=\"sk-estimator-id-1\" class=\"sk-toggleable__label sk-toggleable__label-arrow\">KMeans</label><div class=\"sk-toggleable__content\"><pre>KMeans(n_clusters=3)</pre></div></div></div></div></div>"
      ],
      "text/plain": [
       "KMeans(n_clusters=3)"
      ]
     },
     "execution_count": 4,
     "metadata": {},
     "output_type": "execute_result"
    }
   ],
   "source": [
    "# Usando o KMeans para agrupar as milhares de cores em 3 clusters;\n",
    "# ATENÇÃO: Demora bastante;\n",
    "clt = KMeans(n_clusters = 3)\n",
    "clt.fit(lista_imagens)"
   ]
  },
  {
   "cell_type": "markdown",
   "id": "58e70669",
   "metadata": {},
   "source": [
    "# Fizemos algumas adequações para criar o histograma. "
   ]
  },
  {
   "cell_type": "code",
   "execution_count": 5,
   "id": "7b146ee9",
   "metadata": {},
   "outputs": [],
   "source": [
    "# Usa o centróide para criar um histograma, baseado no número de pixels de cada cluster;\n",
    "def histograma(clt):\n",
    "    numLabels = np.arange(0, len(np.unique(clt.labels_)) + 1)\n",
    "    (hist, _) = np.histogram(clt.labels_, bins = numLabels)\n",
    "    # Normalizando o histograma;\n",
    "    hist = hist.astype(\"float\")\n",
    "    hist /= hist.sum()\n",
    "    return hist\n",
    "\n",
    "# Mostra a porcentagem de cada cor no histograma;\n",
    "def cores(hist, centroids):\n",
    "    bar = np.zeros((50, 300, 3), dtype = \"uint8\")\n",
    "    startX = 0\n",
    "    # Estrutura de Repetição para conseguir a porcentagem das cores em cada cluster;\n",
    "    for (percent, color) in zip(hist, centroids):\n",
    "        # Mostra a porcentagem relativa de cada cluster;\n",
    "        endX = startX + (percent * 300)\n",
    "        cv2.rectangle(bar, (int(startX), 0), (int(endX), 50),\n",
    "            color.astype(\"uint8\").tolist(), -1)\n",
    "        startX = endX\n",
    "    return bar"
   ]
  },
  {
   "cell_type": "markdown",
   "id": "f7d71a62",
   "metadata": {},
   "source": [
    "# Criação do histograma."
   ]
  },
  {
   "cell_type": "code",
   "execution_count": 6,
   "id": "0bdac221",
   "metadata": {},
   "outputs": [
    {
     "data": {
      "image/png": "[encoded data removed]",
      "text/plain": [
       "<Figure size 432x288 with 1 Axes>"
      ]
     },
     "metadata": {
      "needs_background": "light"
     },
     "output_type": "display_data"
    }
   ],
   "source": [
    "# Plotando o histograma;\n",
    "hist = histograma(clt)\n",
    "bar = cores(hist, clt.cluster_centers_)\n",
    "# Mostrando a barra;\n",
    "plt.figure()\n",
    "plt.axis(\"off\")\n",
    "plt.imshow(bar)\n",
    "plt.savefig(\"cores_4096.png\",dpi = 500)\n",
    "plt.show()"
   ]
  },
  {
   "cell_type": "code",
   "execution_count": 7,
   "id": "dbc28d20",
   "metadata": {},
   "outputs": [
    {
     "data": {
      "text/plain": [
       "[((50, 61, 53), 498968), ((100, 104, 91), 288672), ((163, 160, 146), 114460)]"
      ]
     },
     "execution_count": 7,
     "metadata": {},
     "output_type": "execute_result"
    }
   ],
   "source": [
    "# Extraindo as cores da imagem;\n",
    "import extcolors\n",
    "colors_x, pixel_count = extcolors.extract_from_path(\"cores_4096.png\", tolerance = 12, limit=12)\n",
    "colors_x"
   ]
  },
  {
   "cell_type": "markdown",
   "id": "e8734bce",
   "metadata": {},
   "source": [
    "# Criação de um loop para extrair apenas valores RGB da lista"
   ]
  },
  {
   "cell_type": "code",
   "execution_count": 8,
   "id": "ca2f769c",
   "metadata": {},
   "outputs": [
    {
     "name": "stdout",
     "output_type": "stream",
     "text": [
      "[50, 100, 163] [61, 104, 160] [53, 91, 146]\n"
     ]
    }
   ],
   "source": [
    "# Loop para extrair apenas os valores RGB da lista acima\n",
    "R = []\n",
    "G = []\n",
    "B = []\n",
    "\n",
    "num = 0\n",
    "for i in range(0,len(colors_x)):\n",
    "    a = colors_x[num][0][0]\n",
    "    b = colors_x[num][0][1]\n",
    "    c = colors_x[num][0][2]\n",
    "    R.append(a)\n",
    "    G.append(b)\n",
    "    B.append(c)\n",
    "    num+=1\n",
    "print(R, G, B)"
   ]
  },
  {
   "cell_type": "markdown",
   "id": "f0a72c5c",
   "metadata": {},
   "source": [
    "# Transformando os valores RGB em HEX"
   ]
  },
  {
   "cell_type": "code",
   "execution_count": 9,
   "id": "f90e6de7",
   "metadata": {},
   "outputs": [
    {
     "data": {
      "text/plain": [
       "['#323D35', '#64685B', '#A3A092']"
      ]
     },
     "execution_count": 9,
     "metadata": {},
     "output_type": "execute_result"
    }
   ],
   "source": [
    "# Loop para transformar os valores RGB em HEX\n",
    "num = 0\n",
    "lista_hex = []\n",
    "for i in range(0, len(colors_x)):\n",
    "    colors = rgb2hex(R[num],G[num],B[num])\n",
    "    lista_hex.append(colors)\n",
    "    num += 1\n",
    "lista_hex"
   ]
  },
  {
   "cell_type": "markdown",
   "id": "241aadfa",
   "metadata": {},
   "source": [
    "# Extraindo a frequência de cada cor"
   ]
  },
  {
   "cell_type": "code",
   "execution_count": 10,
   "id": "f7e26afe",
   "metadata": {},
   "outputs": [
    {
     "data": {
      "text/plain": [
       "[498968, 288672, 114460]"
      ]
     },
     "execution_count": 10,
     "metadata": {},
     "output_type": "execute_result"
    }
   ],
   "source": [
    "# Loop para extrair a frequência de cada cor\n",
    "lista_occ = []\n",
    "num = 0\n",
    "for i in range(0, len(colors_x)):\n",
    "    a = colors_x[num][1]\n",
    "    lista_occ.append(a)\n",
    "    num += 1\n",
    "lista_occ"
   ]
  },
  {
   "cell_type": "markdown",
   "id": "58552e66",
   "metadata": {},
   "source": [
    "# Criando o gráfico de setores"
   ]
  },
  {
   "cell_type": "code",
   "execution_count": 14,
   "id": "87629b8d",
   "metadata": {},
   "outputs": [
    {
     "data": {
      "image/png": "[encoded data removed]",
      "text/plain": [
       "<Figure size 900x900 with 1 Axes>"
      ]
     },
     "metadata": {},
     "output_type": "display_data"
    }
   ],
   "source": [
    "# Plotando o gráfico de setores\n",
    "text_c = [c + ' ' + str(round(p*100/sum(lista_occ),1)) +'%' for c, p in zip(lista_hex,\n",
    "                                                                               lista_occ)]\n",
    "fig, ax = plt.subplots(figsize=(90,90),dpi=10)\n",
    "wedges, text = ax.pie(lista_occ,\n",
    "                      labels= text_c,\n",
    "                      labeldistance= 1.05,\n",
    "                      colors = lista_hex,\n",
    "                      textprops={'fontsize': 120, 'color':'black'}\n",
    "                     )\n",
    "plt.setp(wedges, width=0.3)\n",
    "\n",
    "#create space in the center\n",
    "plt.setp(wedges, width=0.36)\n",
    "\n",
    "ax.set_aspect(\"equal\")\n",
    "fig.set_facecolor('white')\n",
    "plt.show()"
   ]
  },
  {
   "cell_type": "markdown",
   "id": "382107cd",
   "metadata": {},
   "source": [
    "---"
   ]
  },
  {
   "cell_type": "markdown",
   "id": "0f27b57f",
   "metadata": {},
   "source": [
    "# Conclusão\n",
    "\n",
    "Com isto, podemos analisar as imagens e calcular a porcentagem de desmatamento que ocorreu na região da Amazônia nos ultimos anos. "
   ]
  },
  {
   "cell_type": "markdown",
   "id": "427b89e4",
   "metadata": {},
   "source": [
    "# Referências:\n",
    "\n",
    "https://towardsdatascience.com/image-color-extraction-with-python-in-4-steps-8d9370d9216e\n",
    "\n",
    "https://pyimagesearch.com/2014/05/26/opencv-python-k-means-color-clustering/"
   ]
  },
  {
   "cell_type": "code",
   "execution_count": null,
   "id": "b29fc353",
   "metadata": {},
   "outputs": [],
   "source": []
  }
 ],
 "metadata": {
  "kernelspec": {
   "display_name": "Python 3 (ipykernel)",
   "language": "python",
   "name": "python3"
  },
  "language_info": {
   "codemirror_mode": {
    "name": "ipython",
    "version": 3
   },
   "file_extension": ".py",
   "mimetype": "text/x-python",
   "name": "python",
   "nbconvert_exporter": "python",
   "pygments_lexer": "ipython3",
   "version": "3.9.7"
  }
 },
 "nbformat": 4,
 "nbformat_minor": 5
}
